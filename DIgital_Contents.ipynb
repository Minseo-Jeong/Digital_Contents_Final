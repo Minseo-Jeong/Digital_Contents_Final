{
  "nbformat": 4,
  "nbformat_minor": 0,
  "metadata": {
    "colab": {
      "name": "디콘.ipynb",
      "provenance": [],
      "collapsed_sections": []
    },
    "kernelspec": {
      "name": "python3",
      "display_name": "Python 3"
    }
  },
  "cells": [
    {
      "cell_type": "code",
      "metadata": {
        "id": "53j9aIWx8POY",
        "colab_type": "code",
        "colab": {}
      },
      "source": [
        "!pip install tensorflow-gpu\n",
        "!pip install konlpy"
      ],
      "execution_count": 0,
      "outputs": []
    },
    {
      "cell_type": "markdown",
      "metadata": {
        "id": "W_drZ3BQ_1Is",
        "colab_type": "text"
      },
      "source": [
        "실행에 필요한 tensorflow와 konlpy를 설치합니다"
      ]
    },
    {
      "cell_type": "code",
      "metadata": {
        "id": "QVES9c787Idx",
        "colab_type": "code",
        "colab": {}
      },
      "source": [
        "import pandas as pd\n",
        "import numpy as np\n",
        "from konlpy.tag import Okt\n",
        "from string import punctuation\n",
        "from collections import Counter\n",
        "from tensorflow.keras import models, layers\n",
        "from tensorflow.keras.callbacks import TensorBoard\n",
        "import tensorflow as tf\n",
        "import matplotlib.pyplot as plt"
      ],
      "execution_count": 0,
      "outputs": []
    },
    {
      "cell_type": "markdown",
      "metadata": {
        "id": "7Pq6hb7LACQ6",
        "colab_type": "text"
      },
      "source": [
        "실행에 필요한 모듈들을 import합니다"
      ]
    },
    {
      "cell_type": "code",
      "metadata": {
        "id": "gaj5l43u7QqW",
        "colab_type": "code",
        "colab": {}
      },
      "source": [
        "okt = Okt()\n",
        "counts = Counter()"
      ],
      "execution_count": 0,
      "outputs": []
    },
    {
      "cell_type": "code",
      "metadata": {
        "id": "hUfoJlQe7R_3",
        "colab_type": "code",
        "colab": {}
      },
      "source": [
        "df = pd.read_csv('good.csv',sep='\\n')\n",
        "df1 = pd.read_csv('bad.csv',sep='\\n')\n",
        "\n",
        "arr = np.array(df['review'])\n",
        "arr1 = np.array(df1['review'])\n",
        "\n",
        "label1 = np.ones(len(arr))\n",
        "label2 = np.zeros(len(arr1))\n",
        "\n",
        "data = np.concatenate([arr, arr1])\n",
        "label = np.concatenate([label1, label2])"
      ],
      "execution_count": 0,
      "outputs": []
    },
    {
      "cell_type": "markdown",
      "metadata": {
        "id": "XyBBRv_1ATUb",
        "colab_type": "text"
      },
      "source": [
        "Pandas를 이용하여 Enter로 구분된 csv를 불러옵니다.\n",
        "불러들인 두개의 DataFrame을 합쳐서 numpy배열의 데이터셋을 만듭니다.\n",
        "0과1로 데이터 라벨링을 진행한 후 numpy배열의 label셋을 만듭니다."
      ]
    },
    {
      "cell_type": "code",
      "metadata": {
        "id": "kBPEx7Cz7U4U",
        "colab_type": "code",
        "colab": {}
      },
      "source": [
        "shuffle_data = np.arange((data).shape[0])\n",
        "np.random.shuffle(shuffle_data)\n",
        "\n",
        "data = data[s]\n",
        "label = label[s]"
      ],
      "execution_count": 0,
      "outputs": []
    },
    {
      "cell_type": "markdown",
      "metadata": {
        "id": "D_PF0g_4BW4z",
        "colab_type": "text"
      },
      "source": [
        "shuffle_data 배열에 data의 인덱스를 넣고 data와 label 배열을 동일한 순서로 섞어 데이터셋을 셔플합니다."
      ]
    },
    {
      "cell_type": "code",
      "metadata": {
        "id": "l1wnWAo29HRF",
        "colab_type": "code",
        "colab": {}
      },
      "source": [
        "revised_reviews = [' '.join(okt.morphs(review)) for review in data]"
      ],
      "execution_count": 0,
      "outputs": []
    },
    {
      "cell_type": "markdown",
      "metadata": {
        "id": "vTYKnbJaC_G1",
        "colab_type": "text"
      },
      "source": [
        "한국어 자연어 처리 모듈인 konlpy의 Okt를 이용하여 형태소를 분리하여 데이터를 토큰화합니다."
      ]
    },
    {
      "cell_type": "code",
      "metadata": {
        "id": "6CR5MJyN7kuX",
        "colab_type": "code",
        "colab": {}
      },
      "source": [
        "for i,review in enumerate(revised_reviews):\n",
        "    text = ''.join([c if c not in punctuation else ' '+c+' ' \\\n",
        "                    for c in review]).lower()\n",
        "    revised_reviews[i] = text\n",
        "    counts.update(text.split())"
      ],
      "execution_count": 0,
      "outputs": []
    },
    {
      "cell_type": "markdown",
      "metadata": {
        "id": "-TK4IJJCDwtW",
        "colab_type": "text"
      },
      "source": [
        "단어를 분리한 후 각 단어의 빈도를 카운트합니다."
      ]
    },
    {
      "cell_type": "code",
      "metadata": {
        "id": "3rS-ptcj7lPI",
        "colab_type": "code",
        "colab": {}
      },
      "source": [
        "word_counts = sorted(counts, key=counts.get, reverse=True)\n",
        "word_to_int = {word: ii for ii, word in enumerate(word_counts, 1)}"
      ],
      "execution_count": 0,
      "outputs": []
    },
    {
      "cell_type": "markdown",
      "metadata": {
        "id": "ISjx3t7mERTE",
        "colab_type": "text"
      },
      "source": [
        "각 단어를 딕셔너리를 통해 정수로 변환합니다."
      ]
    },
    {
      "cell_type": "code",
      "metadata": {
        "id": "-FRg8pSp7oBy",
        "colab_type": "code",
        "colab": {}
      },
      "source": [
        "mapped_reviews = []\n",
        "\n",
        "for review in revised_reviews:\n",
        "    mapped_reviews.append([word_to_int[word] for word in review.split()])\n",
        "\n",
        "sequence_length = 300 \n",
        "sequences = np.zeros((len(mapped_reviews), sequence_length), dtype=int)\n",
        "\n",
        "df = []\n",
        "\n",
        "for i, row in enumerate(mapped_reviews):\n",
        "    review_arr = np.array(row)\n",
        "    df.append(label[i])\n",
        "    sequences[i, -len(row):] = review_arr[-sequence_length:]"
      ],
      "execution_count": 0,
      "outputs": []
    },
    {
      "cell_type": "markdown",
      "metadata": {
        "id": "zmcJs0_7EsKe",
        "colab_type": "text"
      },
      "source": [
        "총 길이가300인 시퀀스에 단어 인덱스를 대입합니다.\n",
        "단어 인덱스의 길이가 300보다 작을 경우 남은 공간을 제로 패딩으로 채웁니다.\n"
      ]
    },
    {
      "cell_type": "code",
      "metadata": {
        "id": "zNl04B9y8E4j",
        "colab_type": "code",
        "colab": {}
      },
      "source": [
        "X_train = sequences[:20000, :]\n",
        "y_train = np.array(df[:20000])\n",
        "X_test = sequences[20000:, :]\n",
        "y_test = np.array(df[20000:])"
      ],
      "execution_count": 0,
      "outputs": []
    },
    {
      "cell_type": "markdown",
      "metadata": {
        "id": "kELTisntHb_t",
        "colab_type": "text"
      },
      "source": [
        "데이터셋을 학습 데이터셋과 테스트 셋으로 나눕니다."
      ]
    },
    {
      "cell_type": "code",
      "metadata": {
        "id": "gAzNOuU_HsSL",
        "colab_type": "code",
        "colab": {}
      },
      "source": [
        "n_words = len(word_to_int) + 1"
      ],
      "execution_count": 0,
      "outputs": []
    },
    {
      "cell_type": "code",
      "metadata": {
        "id": "5zRW9tc58HKS",
        "colab_type": "code",
        "colab": {
          "base_uri": "https://localhost:8080/",
          "height": 353
        },
        "outputId": "31363094-0ca1-46f7-f565-93ddd1f7ec75"
      },
      "source": [
        "model = models.Sequential()\n",
        "model.add(layers.Embedding(n_words, 300, \n",
        "                           embeddings_regularizer='l2'))\n",
        "model.add(layers.LSTM(16))\n",
        "model.add(layers.Dropout(0.2))\n",
        "model.add(layers.Flatten())\n",
        "model.add(layers.Dense(1, activation='sigmoid'))\n",
        "model.summary()"
      ],
      "execution_count": 18,
      "outputs": [
        {
          "output_type": "stream",
          "text": [
            "Model: \"sequential\"\n",
            "_________________________________________________________________\n",
            "Layer (type)                 Output Shape              Param #   \n",
            "=================================================================\n",
            "embedding (Embedding)        (None, None, 300)         9850200   \n",
            "_________________________________________________________________\n",
            "lstm (LSTM)                  (None, 16)                20288     \n",
            "_________________________________________________________________\n",
            "dropout (Dropout)            (None, 16)                0         \n",
            "_________________________________________________________________\n",
            "flatten (Flatten)            (None, 16)                0         \n",
            "_________________________________________________________________\n",
            "dense (Dense)                (None, 1)                 17        \n",
            "=================================================================\n",
            "Total params: 9,870,505\n",
            "Trainable params: 9,870,505\n",
            "Non-trainable params: 0\n",
            "_________________________________________________________________\n"
          ],
          "name": "stdout"
        }
      ]
    },
    {
      "cell_type": "markdown",
      "metadata": {
        "id": "kaLTbjlbIBk1",
        "colab_type": "text"
      },
      "source": [
        "학습을 진행할 LSTM모델을 구축합니다."
      ]
    },
    {
      "cell_type": "code",
      "metadata": {
        "id": "U4kYrhuZ8HG6",
        "colab_type": "code",
        "colab": {
          "base_uri": "https://localhost:8080/",
          "height": 504
        },
        "outputId": "f060af97-db00-4342-a0fc-3ce8ad992365"
      },
      "source": [
        "model.compile(loss='binary_crossentropy', \n",
        "              optimizer='adam', metrics=['acc'])\n",
        "\n",
        "callback_list = [TensorBoard(),tf.keras.callbacks.ModelCheckpoint(filepath='Sentiment_Classification.h5', \n",
        "                                 monitor='val_loss', save_best_only=True),\n",
        "                 tf.keras.callbacks.EarlyStopping(patience=5)]\n",
        "\n",
        "history = model.fit(X_train, y_train, \n",
        "                    batch_size=4096, epochs=10, \n",
        "                    validation_split=0.2, callbacks=callback_list)"
      ],
      "execution_count": 19,
      "outputs": [
        {
          "output_type": "stream",
          "text": [
            "Train on 16000 samples, validate on 4000 samples\n",
            "Epoch 1/10\n"
          ],
          "name": "stdout"
        },
        {
          "output_type": "stream",
          "text": [
            "/usr/local/lib/python3.6/dist-packages/tensorflow_core/python/framework/indexed_slices.py:424: UserWarning: Converting sparse IndexedSlices to a dense Tensor of unknown shape. This may consume a large amount of memory.\n",
            "  \"Converting sparse IndexedSlices to a dense Tensor of unknown shape. \"\n",
            "/usr/local/lib/python3.6/dist-packages/tensorflow_core/python/framework/indexed_slices.py:424: UserWarning: Converting sparse IndexedSlices to a dense Tensor of unknown shape. This may consume a large amount of memory.\n",
            "  \"Converting sparse IndexedSlices to a dense Tensor of unknown shape. \"\n"
          ],
          "name": "stderr"
        },
        {
          "output_type": "stream",
          "text": [
            "16000/16000 [==============================] - 71s 4ms/sample - loss: 75.9088 - acc: 0.5742 - val_loss: 64.6913 - val_acc: 0.6043\n",
            "Epoch 2/10\n",
            "16000/16000 [==============================] - 55s 3ms/sample - loss: 58.9550 - acc: 0.5984 - val_loss: 49.6433 - val_acc: 0.6018\n",
            "Epoch 3/10\n",
            "16000/16000 [==============================] - 49s 3ms/sample - loss: 44.9585 - acc: 0.5986 - val_loss: 37.4083 - val_acc: 0.6065\n",
            "Epoch 4/10\n",
            "16000/16000 [==============================] - 55s 3ms/sample - loss: 33.6678 - acc: 0.6007 - val_loss: 27.6824 - val_acc: 0.6108\n",
            "Epoch 5/10\n",
            "16000/16000 [==============================] - 46s 3ms/sample - loss: 24.7635 - acc: 0.6091 - val_loss: 20.1246 - val_acc: 0.6250\n",
            "Epoch 6/10\n",
            "16000/16000 [==============================] - 45s 3ms/sample - loss: 17.8972 - acc: 0.6271 - val_loss: 14.3795 - val_acc: 0.6428\n",
            "Epoch 7/10\n",
            "16000/16000 [==============================] - 45s 3ms/sample - loss: 12.7154 - acc: 0.6463 - val_loss: 10.1075 - val_acc: 0.6637\n",
            "Epoch 8/10\n",
            "16000/16000 [==============================] - 49s 3ms/sample - loss: 8.8953 - acc: 0.6696 - val_loss: 7.0079 - val_acc: 0.6737\n",
            "Epoch 9/10\n",
            "16000/16000 [==============================] - 46s 3ms/sample - loss: 6.1456 - acc: 0.6831 - val_loss: 4.8140 - val_acc: 0.6848\n",
            "Epoch 10/10\n",
            "16000/16000 [==============================] - 46s 3ms/sample - loss: 4.2160 - acc: 0.6885 - val_loss: 3.2995 - val_acc: 0.6892\n"
          ],
          "name": "stdout"
        }
      ]
    },
    {
      "cell_type": "markdown",
      "metadata": {
        "id": "UOHxf6kdIGjJ",
        "colab_type": "text"
      },
      "source": [
        "학습할 데이터 셋을 할당한 후 손실 함수데이터 셋을 할당한 후 최적화를 위해 손실 함수와 하이퍼파라미터를 지정하고 10회 가량 반복학습을 진행합니다.\n",
        "\n",
        "반복학습 중 가장 결과가 좋은 모델을 자동으로 저장합니다."
      ]
    },
    {
      "cell_type": "code",
      "metadata": {
        "id": "jV5nCnxh8HEx",
        "colab_type": "code",
        "colab": {
          "base_uri": "https://localhost:8080/",
          "height": 279
        },
        "outputId": "8181ae4b-f1ae-49f9-bace-cb0badca09bb"
      },
      "source": [
        "epochs = np.arange(1, 11)\n",
        "plt.plot(epochs, history.history['loss'])\n",
        "plt.plot(epochs, history.history['val_loss'])\n",
        "plt.xlabel('epochs')\n",
        "plt.ylabel('loss')\n",
        "plt.show()"
      ],
      "execution_count": 21,
      "outputs": [
        {
          "output_type": "display_data",
          "data": {
            "image/png": "[encoded data removed]",
            "text/plain": [
              "<Figure size 432x288 with 1 Axes>"
            ]
          },
          "metadata": {
            "tags": []
          }
        }
      ]
    },
    {
      "cell_type": "markdown",
      "metadata": {
        "id": "7AdDW5e7DUcE",
        "colab_type": "text"
      },
      "source": [
        "학습 중 기록된 손실률을 시각화 합니다."
      ]
    },
    {
      "cell_type": "code",
      "metadata": {
        "id": "YCBoL5Ku8Lwb",
        "colab_type": "code",
        "colab": {
          "base_uri": "https://localhost:8080/",
          "height": 279
        },
        "outputId": "fe550236-f069-499f-f439-a6846e35fa1e"
      },
      "source": [
        "epochs = np.arange(1, 11)\n",
        "plt.plot(epochs, history.history['acc'])\n",
        "plt.plot(epochs, history.history['val_acc'])\n",
        "plt.xlabel('epochs')\n",
        "plt.ylabel('acc')\n",
        "plt.show()"
      ],
      "execution_count": 22,
      "outputs": [
        {
          "output_type": "display_data",
          "data": {
            "image/png": "[encoded data removed]",
            "text/plain": [
              "<Figure size 432x288 with 1 Axes>"
            ]
          },
          "metadata": {
            "tags": []
          }
        }
      ]
    },
    {
      "cell_type": "markdown",
      "metadata": {
        "id": "FNdcZstQDqEa",
        "colab_type": "text"
      },
      "source": [
        "학습 중 기록된 정확도를 시각화 합니다."
      ]
    },
    {
      "cell_type": "code",
      "metadata": {
        "id": "wgKGmnZo_qKl",
        "colab_type": "code",
        "colab": {}
      },
      "source": [
        ""
      ],
      "execution_count": 0,
      "outputs": []
    }
  ]
}